{
 "cells": [
  {
   "cell_type": "code",
   "execution_count": 0,
   "metadata": {
    "application/vnd.databricks.v1+cell": {
     "cellMetadata": {
      "byteLimit": 2048000,
      "implicitDf": true,
      "rowLimit": 10000
     },
     "inputWidgets": {},
     "nuid": "6e8ea5f3-3929-421b-92f3-d5f3bf3f3236",
     "showTitle": false,
     "tableResultSettingsMap": {},
     "title": ""
    }
   },
   "outputs": [
    {
     "output_type": "display_data",
     "data": {
      "text/html": [
       "<style scoped>\n",
       "  .table-result-container {\n",
       "    max-height: 300px;\n",
       "    overflow: auto;\n",
       "  }\n",
       "  table, th, td {\n",
       "    border: 1px solid black;\n",
       "    border-collapse: collapse;\n",
       "  }\n",
       "  th, td {\n",
       "    padding: 5px;\n",
       "  }\n",
       "  th {\n",
       "    text-align: left;\n",
       "  }\n",
       "</style><div class='table-result-container'><table class='table-result'><thead style='background-color: white'><tr><th>SalonID</th><th>SalonName</th><th>TotalRevenue</th></tr></thead><tbody><tr><td>S003</td><td>Royal Touch Spa</td><td>39800</td></tr><tr><td>S001</td><td>Glow & Shine Spa</td><td>35700</td></tr><tr><td>S002</td><td>Elite Salon</td><td>33500</td></tr></tbody></table></div>"
      ]
     },
     "metadata": {
      "application/vnd.databricks.v1+output": {
       "addedWidgets": {},
       "aggData": [],
       "aggError": "",
       "aggOverflow": false,
       "aggSchema": [],
       "aggSeriesLimitReached": false,
       "aggType": "",
       "arguments": {},
       "columnCustomDisplayInfos": {},
       "data": [
        [
         "S003",
         "Royal Touch Spa",
         39800
        ],
        [
         "S001",
         "Glow & Shine Spa",
         35700
        ],
        [
         "S002",
         "Elite Salon",
         33500
        ]
       ],
       "datasetInfos": [
        {
         "name": "_sqldf",
         "schema": {
          "fields": [
           {
            "metadata": {},
            "name": "SalonID",
            "nullable": true,
            "type": "string"
           },
           {
            "metadata": {},
            "name": "SalonName",
            "nullable": true,
            "type": "string"
           },
           {
            "metadata": {},
            "name": "TotalRevenue",
            "nullable": true,
            "type": "long"
           }
          ],
          "type": "struct"
         },
         "tableIdentifier": null,
         "typeStr": "pyspark.sql.connect.dataframe.DataFrame"
        }
       ],
       "dbfsResultPath": null,
       "isJsonSchema": true,
       "metadata": {
        "createTempViewForImplicitDf": true,
        "dataframeName": "_sqldf",
        "executionCount": 10
       },
       "overflow": false,
       "plotOptions": {
        "customPlotOptions": {},
        "displayType": "table",
        "pivotAggregation": null,
        "pivotColumns": null,
        "xColumns": null,
        "yColumns": null
       },
       "removedWidgets": [],
       "schema": [
        {
         "metadata": "{}",
         "name": "SalonID",
         "type": "\"string\""
        },
        {
         "metadata": "{}",
         "name": "SalonName",
         "type": "\"string\""
        },
        {
         "metadata": "{}",
         "name": "TotalRevenue",
         "type": "\"long\""
        }
       ],
       "type": "table"
      }
     },
     "output_type": "display_data"
    },
    {
     "output_type": "display_data",
     "data": {
      "text/plain": [
       "Databricks visualization. Run in Databricks to view."
      ]
     },
     "metadata": {
      "application/vnd.databricks.v1.subcommand+json": {
       "baseErrorDetails": null,
       "bindings": {},
       "collapsed": false,
       "command": "%sql WITH q AS (SELECT \n    SalonID,\n    SalonName,\n    SUM(AmountSpent) AS TotalRevenue\nFROM workspace.default.basalon\nGROUP BY SalonID, SalonName\nORDER BY TotalRevenue DESC) SELECT `SalonName`,`SalonName`,SUM(`TotalRevenue`) `column_8de63742141` FROM q GROUP BY `SalonName`",
       "commandTitle": "Visualization 1",
       "commandType": "auto",
       "commandVersion": 0,
       "commentThread": [],
       "commentsVisible": false,
       "contentSha256Hex": null,
       "customPlotOptions": {
        "redashChart": [
         {
          "key": "type",
          "value": "CHART"
         },
         {
          "key": "options",
          "value": {
           "alignYAxesAtZero": true,
           "coefficient": 1,
           "columnConfigurationMap": {
            "series": {
             "column": "SalonName",
             "id": "column_8de63742145"
            },
            "x": {
             "column": "SalonName",
             "id": "column_8de63742143"
            },
            "y": [
             {
              "column": "TotalRevenue",
              "id": "column_8de63742141",
              "transform": "SUM"
             }
            ]
           },
           "dateTimeFormat": "DD/MM/YYYY HH:mm",
           "direction": {
            "type": "counterclockwise"
           },
           "error_y": {
            "type": "data",
            "visible": true
           },
           "globalSeriesType": "column",
           "isAggregationOn": true,
           "legend": {
            "traceorder": "normal"
           },
           "missingValuesAsZero": true,
           "numberFormat": "0,0.[00000]",
           "percentFormat": "0[.]00%",
           "series": {
            "error_y": {
             "type": "data",
             "visible": true
            },
            "stacking": "stack"
           },
           "seriesOptions": {
            "column_8de63742141": {
             "name": "TotalRevenue",
             "yAxis": 0
            }
           },
           "showDataLabels": false,
           "sizemode": "diameter",
           "sortX": true,
           "sortY": true,
           "swappedAxes": true,
           "textFormat": "",
           "useAggregationsUi": true,
           "valuesOptions": {},
           "version": 2,
           "xAxis": {
            "labels": {
             "enabled": true
            },
            "type": "-"
           },
           "yAxis": [
            {
             "type": "-"
            },
            {
             "opposite": true,
             "type": "-"
            }
           ]
          }
         }
        ]
       },
       "datasetPreviewNameToCmdIdMap": {},
       "diffDeletes": [],
       "diffInserts": [],
       "displayType": "redashChart",
       "error": null,
       "errorDetails": null,
       "errorSummary": null,
       "errorTraceType": null,
       "finishTime": 0,
       "globalVars": {},
       "guid": "",
       "height": "auto",
       "hideCommandCode": false,
       "hideCommandResult": false,
       "iPythonMetadata": null,
       "inputWidgets": {},
       "isLockedInExamMode": false,
       "latestAssumeRoleInfo": null,
       "latestUser": "a user",
       "latestUserId": null,
       "listResultMetadata": null,
       "metadata": {},
       "nuid": "469bfa1a-c043-478c-973f-78265753b36c",
       "origId": 0,
       "parentHierarchy": [],
       "pivotAggregation": null,
       "pivotColumns": null,
       "position": 101.0,
       "resultDbfsErrorMessage": null,
       "resultDbfsStatus": "INLINED_IN_TREE",
       "results": null,
       "showCommandTitle": false,
       "startTime": 0,
       "state": "input",
       "streamStates": {},
       "subcommandOptions": {
        "queryPlan": {
         "groups": [
          {
           "column": "SalonName",
           "type": "column"
          },
          {
           "column": "SalonName",
           "type": "column"
          }
         ],
         "selects": [
          {
           "column": "SalonName",
           "type": "column"
          },
          {
           "column": "SalonName",
           "type": "column"
          },
          {
           "alias": "column_8de63742141",
           "args": [
            {
             "column": "TotalRevenue",
             "type": "column"
            }
           ],
           "function": "SUM",
           "type": "function"
          }
         ]
        }
       },
       "submitTime": 0,
       "subtype": "tableResultSubCmd.visualization",
       "tableResultIndex": 0,
       "tableResultSettingsMap": {},
       "useConsistentColors": false,
       "version": "CommandV1",
       "width": "auto",
       "workflows": [],
       "xColumns": null,
       "yColumns": null
      }
     },
     "output_type": "display_data"
    }
   ],
   "source": [
    "%sql\n",
    "SELECT \n",
    "    SalonID,\n",
    "    SalonName,\n",
    "    SUM(AmountSpent) AS TotalRevenue\n",
    "FROM workspace.default.basalon\n",
    "GROUP BY SalonID, SalonName\n",
    "ORDER BY TotalRevenue DESC;"
   ]
  },
  {
   "cell_type": "code",
   "execution_count": 0,
   "metadata": {
    "application/vnd.databricks.v1+cell": {
     "cellMetadata": {
      "byteLimit": 2048000,
      "implicitDf": true,
      "rowLimit": 10000
     },
     "inputWidgets": {},
     "nuid": "9402b373-3c07-456c-8168-bfd94f410b8f",
     "showTitle": false,
     "tableResultSettingsMap": {},
     "title": ""
    }
   },
   "outputs": [
    {
     "output_type": "display_data",
     "data": {
      "text/html": [
       "<style scoped>\n",
       "  .table-result-container {\n",
       "    max-height: 300px;\n",
       "    overflow: auto;\n",
       "  }\n",
       "  table, th, td {\n",
       "    border: 1px solid black;\n",
       "    border-collapse: collapse;\n",
       "  }\n",
       "  th, td {\n",
       "    padding: 5px;\n",
       "  }\n",
       "  th {\n",
       "    text-align: left;\n",
       "  }\n",
       "</style><div class='table-result-container'><table class='table-result'><thead style='background-color: white'><tr><th>BookingHour</th><th>TotalBookings</th></tr></thead><tbody><tr><td>0</td><td>50</td></tr></tbody></table></div>"
      ]
     },
     "metadata": {
      "application/vnd.databricks.v1+output": {
       "addedWidgets": {},
       "aggData": [],
       "aggError": "",
       "aggOverflow": false,
       "aggSchema": [],
       "aggSeriesLimitReached": false,
       "aggType": "",
       "arguments": {},
       "columnCustomDisplayInfos": {},
       "data": [
        [
         0,
         50
        ]
       ],
       "datasetInfos": [
        {
         "name": "_sqldf",
         "schema": {
          "fields": [
           {
            "metadata": {},
            "name": "BookingHour",
            "nullable": true,
            "type": "integer"
           },
           {
            "metadata": {},
            "name": "TotalBookings",
            "nullable": false,
            "type": "long"
           }
          ],
          "type": "struct"
         },
         "tableIdentifier": null,
         "typeStr": "pyspark.sql.connect.dataframe.DataFrame"
        }
       ],
       "dbfsResultPath": null,
       "isJsonSchema": true,
       "metadata": {
        "createTempViewForImplicitDf": true,
        "dataframeName": "_sqldf",
        "executionCount": 11
       },
       "overflow": false,
       "plotOptions": {
        "customPlotOptions": {},
        "displayType": "table",
        "pivotAggregation": null,
        "pivotColumns": null,
        "xColumns": null,
        "yColumns": null
       },
       "removedWidgets": [],
       "schema": [
        {
         "metadata": "{}",
         "name": "BookingHour",
         "type": "\"integer\""
        },
        {
         "metadata": "{}",
         "name": "TotalBookings",
         "type": "\"long\""
        }
       ],
       "type": "table"
      }
     },
     "output_type": "display_data"
    },
    {
     "output_type": "display_data",
     "data": {
      "text/plain": [
       "Databricks visualization. Run in Databricks to view."
      ]
     },
     "metadata": {
      "application/vnd.databricks.v1.subcommand+json": {
       "baseErrorDetails": null,
       "bindings": {},
       "collapsed": false,
       "command": "%sql WITH q AS (SELECT \n    HOUR(BookingDate) AS BookingHour,\n    COUNT(*) AS TotalBookings\nFROM workspace.default.basalon\nGROUP BY HOUR(BookingDate)\nORDER BY TotalBookings DESC\nLIMIT 1) SELECT `BookingHour`,`TotalBookings` FROM q GROUP BY `BookingHour`,`TotalBookings`",
       "commandTitle": "Visualization 1",
       "commandType": "auto",
       "commandVersion": 0,
       "commentThread": [],
       "commentsVisible": false,
       "contentSha256Hex": null,
       "customPlotOptions": {
        "redashChart": [
         {
          "key": "type",
          "value": "CHART"
         },
         {
          "key": "options",
          "value": {
           "alignYAxesAtZero": true,
           "coefficient": 1,
           "columnConfigurationMap": {
            "series": {
             "column": "TotalBookings",
             "id": "column_8de63742151"
            },
            "x": {
             "column": "BookingHour",
             "id": "column_8de63742150"
            }
           },
           "dateTimeFormat": "DD/MM/YYYY HH:mm",
           "direction": {
            "type": "counterclockwise"
           },
           "error_y": {
            "type": "data",
            "visible": true
           },
           "globalSeriesType": "line",
           "isAggregationOn": true,
           "legend": {
            "traceorder": "normal"
           },
           "missingValuesAsZero": true,
           "numBins": 10,
           "numberFormat": "0,0.[00000]",
           "percentFormat": "0[.]00%",
           "series": {
            "error_y": {
             "type": "data",
             "visible": true
            },
            "stacking": null
           },
           "seriesOptions": {
            "column_8de63742147": {
             "name": "TotalBookings",
             "type": "line",
             "yAxis": 0
            }
           },
           "showDataLabels": false,
           "sizemode": "diameter",
           "sortX": true,
           "sortY": true,
           "swappedAxes": true,
           "textFormat": "",
           "useAggregationsUi": true,
           "valuesOptions": {},
           "version": 2,
           "xAxis": {
            "labels": {
             "enabled": true
            },
            "type": "-"
           },
           "yAxis": [
            {
             "type": "-"
            },
            {
             "opposite": true,
             "type": "-"
            }
           ]
          }
         }
        ]
       },
       "datasetPreviewNameToCmdIdMap": {},
       "diffDeletes": [],
       "diffInserts": [],
       "displayType": "redashChart",
       "error": null,
       "errorDetails": null,
       "errorSummary": null,
       "errorTraceType": null,
       "finishTime": 0,
       "globalVars": {},
       "guid": "",
       "height": "auto",
       "hideCommandCode": false,
       "hideCommandResult": false,
       "iPythonMetadata": null,
       "inputWidgets": {},
       "isLockedInExamMode": false,
       "latestAssumeRoleInfo": null,
       "latestUser": "a user",
       "latestUserId": null,
       "listResultMetadata": null,
       "metadata": {},
       "nuid": "8ca13b2e-af04-4886-9c93-68a6fdcc2417",
       "origId": 0,
       "parentHierarchy": [],
       "pivotAggregation": null,
       "pivotColumns": null,
       "position": 102.0,
       "resultDbfsErrorMessage": null,
       "resultDbfsStatus": "INLINED_IN_TREE",
       "results": null,
       "showCommandTitle": false,
       "startTime": 0,
       "state": "input",
       "streamStates": {},
       "subcommandOptions": {
        "queryPlan": {
         "groups": [
          {
           "column": "BookingHour",
           "type": "column"
          },
          {
           "column": "TotalBookings",
           "type": "column"
          }
         ],
         "selects": [
          {
           "column": "BookingHour",
           "type": "column"
          },
          {
           "column": "TotalBookings",
           "type": "column"
          }
         ]
        }
       },
       "submitTime": 0,
       "subtype": "tableResultSubCmd.visualization",
       "tableResultIndex": 0,
       "tableResultSettingsMap": {},
       "useConsistentColors": false,
       "version": "CommandV1",
       "width": "auto",
       "workflows": [],
       "xColumns": null,
       "yColumns": null
      }
     },
     "output_type": "display_data"
    }
   ],
   "source": [
    "%sql\n",
    "SELECT \n",
    "    HOUR(BookingDate) AS BookingHour,\n",
    "    COUNT(*) AS TotalBookings\n",
    "FROM workspace.default.basalon\n",
    "GROUP BY HOUR(BookingDate)\n",
    "ORDER BY TotalBookings DESC\n",
    "LIMIT 1;"
   ]
  },
  {
   "cell_type": "code",
   "execution_count": 0,
   "metadata": {
    "application/vnd.databricks.v1+cell": {
     "cellMetadata": {
      "byteLimit": 2048000,
      "implicitDf": true,
      "rowLimit": 10000
     },
     "inputWidgets": {},
     "nuid": "1ed7c443-e883-480c-b829-7eb418661aa3",
     "showTitle": false,
     "tableResultSettingsMap": {},
     "title": ""
    }
   },
   "outputs": [
    {
     "output_type": "display_data",
     "data": {
      "text/html": [
       "<style scoped>\n",
       "  .table-result-container {\n",
       "    max-height: 300px;\n",
       "    overflow: auto;\n",
       "  }\n",
       "  table, th, td {\n",
       "    border: 1px solid black;\n",
       "    border-collapse: collapse;\n",
       "  }\n",
       "  th, td {\n",
       "    padding: 5px;\n",
       "  }\n",
       "  th {\n",
       "    text-align: left;\n",
       "  }\n",
       "</style><div class='table-result-container'><table class='table-result'><thead style='background-color: white'><tr><th>CustomerID</th><th>CustomerName</th><th>AvgDurationPerCustomer</th></tr></thead><tbody><tr><td>C015</td><td>Ritu Singh</td><td>180.0</td></tr><tr><td>C047</td><td>Poonam Chauhan</td><td>180.0</td></tr><tr><td>C011</td><td>Tanya Kapoor</td><td>150.0</td></tr><tr><td>C039</td><td>Sonali Mishra</td><td>150.0</td></tr><tr><td>C045</td><td>Shweta Pandey</td><td>130.0</td></tr><tr><td>C017</td><td>Ananya Das</td><td>120.0</td></tr><tr><td>C041</td><td>Kriti Desai</td><td>120.0</td></tr><tr><td>C008</td><td>Aditya Jain</td><td>120.0</td></tr><tr><td>C032</td><td>Rakesh Tiwari</td><td>110.0</td></tr><tr><td>C029</td><td>Ishita Ghosh</td><td>100.0</td></tr><tr><td>C025</td><td>Shruti Malhotra</td><td>100.0</td></tr><tr><td>C044</td><td>Tarun Bhagat</td><td>100.0</td></tr><tr><td>C020</td><td>Nikhil Sinha</td><td>90.0</td></tr><tr><td>C002</td><td>Rohan Gupta</td><td>90.0</td></tr><tr><td>C035</td><td>Nisha Roy</td><td>90.0</td></tr><tr><td>C046</td><td>Dhruv Bhatia</td><td>85.0</td></tr><tr><td>C036</td><td>Karan Arora</td><td>80.0</td></tr><tr><td>C022</td><td>Harsh Vardhan</td><td>80.0</td></tr><tr><td>C049</td><td>Muskan Ali</td><td>80.0</td></tr><tr><td>C019</td><td>Divya Agarwal</td><td>75.0</td></tr><tr><td>C006</td><td>Rajat Yadav</td><td>75.0</td></tr><tr><td>C031</td><td>Pallavi Saxena</td><td>70.0</td></tr><tr><td>C013</td><td>Shreya Iyer</td><td>70.0</td></tr><tr><td>C024</td><td>Vivek Anand</td><td>70.0</td></tr><tr><td>C034</td><td>Mohit Singh</td><td>70.0</td></tr><tr><td>C003</td><td>Sneha Patel</td><td>60.0</td></tr><tr><td>C014</td><td>Saurabh Khanna</td><td>60.0</td></tr><tr><td>C043</td><td>Aarti Jha</td><td>60.0</td></tr><tr><td>C007</td><td>Neha Reddy</td><td>60.0</td></tr><tr><td>C027</td><td>Radhika Menon</td><td>60.0</td></tr><tr><td>C010</td><td>Manish Kumar</td><td>60.0</td></tr><tr><td>C018</td><td>Kunal Mehta</td><td>60.0</td></tr><tr><td>C016</td><td>Arvind Joshi</td><td>60.0</td></tr><tr><td>C033</td><td>Jyoti Chawla</td><td>60.0</td></tr><tr><td>C048</td><td>Aarav Kapoor</td><td>55.0</td></tr><tr><td>C026</td><td>Anil Bansal</td><td>50.0</td></tr><tr><td>C023</td><td>Meera Pillai</td><td>50.0</td></tr><tr><td>C040</td><td>Yashwant Rao</td><td>50.0</td></tr><tr><td>C004</td><td>Amit Verma</td><td>50.0</td></tr><tr><td>C037</td><td>Alia Fernandes</td><td>50.0</td></tr><tr><td>C012</td><td>Deepak Sharma</td><td>45.0</td></tr><tr><td>C050</td><td>Ramesh Kumar</td><td>45.0</td></tr><tr><td>C042</td><td>Raj Malhotra</td><td>45.0</td></tr><tr><td>C001</td><td>Priya Sharma</td><td>45.0</td></tr><tr><td>C028</td><td>Sandeep Nair</td><td>40.0</td></tr><tr><td>C030</td><td>Varun Kapoor</td><td>40.0</td></tr><tr><td>C005</td><td>Kavya Singh</td><td>40.0</td></tr><tr><td>C021</td><td>Ayesha Khan</td><td>40.0</td></tr><tr><td>C009</td><td>Pooja Nair</td><td>30.0</td></tr><tr><td>C038</td><td>Sameer Kulkarni</td><td>30.0</td></tr></tbody></table></div>"
      ]
     },
     "metadata": {
      "application/vnd.databricks.v1+output": {
       "addedWidgets": {},
       "aggData": [],
       "aggError": "",
       "aggOverflow": false,
       "aggSchema": [],
       "aggSeriesLimitReached": false,
       "aggType": "",
       "arguments": {},
       "columnCustomDisplayInfos": {},
       "data": [
        [
         "C015",
         "Ritu Singh",
         180.0
        ],
        [
         "C047",
         "Poonam Chauhan",
         180.0
        ],
        [
         "C011",
         "Tanya Kapoor",
         150.0
        ],
        [
         "C039",
         "Sonali Mishra",
         150.0
        ],
        [
         "C045",
         "Shweta Pandey",
         130.0
        ],
        [
         "C017",
         "Ananya Das",
         120.0
        ],
        [
         "C041",
         "Kriti Desai",
         120.0
        ],
        [
         "C008",
         "Aditya Jain",
         120.0
        ],
        [
         "C032",
         "Rakesh Tiwari",
         110.0
        ],
        [
         "C029",
         "Ishita Ghosh",
         100.0
        ],
        [
         "C025",
         "Shruti Malhotra",
         100.0
        ],
        [
         "C044",
         "Tarun Bhagat",
         100.0
        ],
        [
         "C020",
         "Nikhil Sinha",
         90.0
        ],
        [
         "C002",
         "Rohan Gupta",
         90.0
        ],
        [
         "C035",
         "Nisha Roy",
         90.0
        ],
        [
         "C046",
         "Dhruv Bhatia",
         85.0
        ],
        [
         "C036",
         "Karan Arora",
         80.0
        ],
        [
         "C022",
         "Harsh Vardhan",
         80.0
        ],
        [
         "C049",
         "Muskan Ali",
         80.0
        ],
        [
         "C019",
         "Divya Agarwal",
         75.0
        ],
        [
         "C006",
         "Rajat Yadav",
         75.0
        ],
        [
         "C031",
         "Pallavi Saxena",
         70.0
        ],
        [
         "C013",
         "Shreya Iyer",
         70.0
        ],
        [
         "C024",
         "Vivek Anand",
         70.0
        ],
        [
         "C034",
         "Mohit Singh",
         70.0
        ],
        [
         "C003",
         "Sneha Patel",
         60.0
        ],
        [
         "C014",
         "Saurabh Khanna",
         60.0
        ],
        [
         "C043",
         "Aarti Jha",
         60.0
        ],
        [
         "C007",
         "Neha Reddy",
         60.0
        ],
        [
         "C027",
         "Radhika Menon",
         60.0
        ],
        [
         "C010",
         "Manish Kumar",
         60.0
        ],
        [
         "C018",
         "Kunal Mehta",
         60.0
        ],
        [
         "C016",
         "Arvind Joshi",
         60.0
        ],
        [
         "C033",
         "Jyoti Chawla",
         60.0
        ],
        [
         "C048",
         "Aarav Kapoor",
         55.0
        ],
        [
         "C026",
         "Anil Bansal",
         50.0
        ],
        [
         "C023",
         "Meera Pillai",
         50.0
        ],
        [
         "C040",
         "Yashwant Rao",
         50.0
        ],
        [
         "C004",
         "Amit Verma",
         50.0
        ],
        [
         "C037",
         "Alia Fernandes",
         50.0
        ],
        [
         "C012",
         "Deepak Sharma",
         45.0
        ],
        [
         "C050",
         "Ramesh Kumar",
         45.0
        ],
        [
         "C042",
         "Raj Malhotra",
         45.0
        ],
        [
         "C001",
         "Priya Sharma",
         45.0
        ],
        [
         "C028",
         "Sandeep Nair",
         40.0
        ],
        [
         "C030",
         "Varun Kapoor",
         40.0
        ],
        [
         "C005",
         "Kavya Singh",
         40.0
        ],
        [
         "C021",
         "Ayesha Khan",
         40.0
        ],
        [
         "C009",
         "Pooja Nair",
         30.0
        ],
        [
         "C038",
         "Sameer Kulkarni",
         30.0
        ]
       ],
       "datasetInfos": [
        {
         "name": "_sqldf",
         "schema": {
          "fields": [
           {
            "metadata": {},
            "name": "CustomerID",
            "nullable": true,
            "type": "string"
           },
           {
            "metadata": {},
            "name": "CustomerName",
            "nullable": true,
            "type": "string"
           },
           {
            "metadata": {},
            "name": "AvgDurationPerCustomer",
            "nullable": true,
            "type": "double"
           }
          ],
          "type": "struct"
         },
         "tableIdentifier": null,
         "typeStr": "pyspark.sql.connect.dataframe.DataFrame"
        }
       ],
       "dbfsResultPath": null,
       "isJsonSchema": true,
       "metadata": {
        "createTempViewForImplicitDf": true,
        "dataframeName": "_sqldf",
        "executionCount": 12
       },
       "overflow": false,
       "plotOptions": {
        "customPlotOptions": {},
        "displayType": "table",
        "pivotAggregation": null,
        "pivotColumns": null,
        "xColumns": null,
        "yColumns": null
       },
       "removedWidgets": [],
       "schema": [
        {
         "metadata": "{}",
         "name": "CustomerID",
         "type": "\"string\""
        },
        {
         "metadata": "{}",
         "name": "CustomerName",
         "type": "\"string\""
        },
        {
         "metadata": "{}",
         "name": "AvgDurationPerCustomer",
         "type": "\"double\""
        }
       ],
       "type": "table"
      }
     },
     "output_type": "display_data"
    },
    {
     "output_type": "display_data",
     "data": {
      "text/plain": [
       "Databricks visualization. Run in Databricks to view."
      ]
     },
     "metadata": {
      "application/vnd.databricks.v1.subcommand+json": {
       "baseErrorDetails": null,
       "bindings": {},
       "collapsed": false,
       "command": "%sql WITH q AS (SELECT \n    CustomerID,\n    CustomerName,\n    AVG(DurationMins) AS AvgDurationPerCustomer\nFROM workspace.default.basalon\nGROUP BY CustomerID, CustomerName\nORDER BY AvgDurationPerCustomer DESC) SELECT `CustomerName`,`AvgDurationPerCustomer` FROM q GROUP BY `AvgDurationPerCustomer`,`CustomerName`",
       "commandTitle": "Visualization 1",
       "commandType": "auto",
       "commandVersion": 0,
       "commentThread": [],
       "commentsVisible": false,
       "contentSha256Hex": null,
       "customPlotOptions": {
        "redashChart": [
         {
          "key": "type",
          "value": "CHART"
         },
         {
          "key": "options",
          "value": {
           "alignYAxesAtZero": true,
           "coefficient": 1,
           "columnConfigurationMap": {
            "series": {
             "column": "AvgDurationPerCustomer",
             "id": "column_8de63742153"
            },
            "x": {
             "column": "CustomerName",
             "id": "column_8de63742152"
            },
            "y": []
           },
           "dateTimeFormat": "DD/MM/YYYY HH:mm",
           "direction": {
            "type": "counterclockwise"
           },
           "error_y": {
            "type": "data",
            "visible": true
           },
           "globalSeriesType": "column",
           "legend": {
            "traceorder": "normal"
           },
           "missingValuesAsZero": true,
           "numberFormat": "0,0.[00000]",
           "percentFormat": "0[.]00%",
           "series": {
            "error_y": {
             "type": "data",
             "visible": true
            },
            "stacking": null
           },
           "seriesOptions": {},
           "showDataLabels": false,
           "sizemode": "diameter",
           "sortX": true,
           "sortY": true,
           "swappedAxes": true,
           "textFormat": "",
           "useAggregationsUi": true,
           "valuesOptions": {},
           "version": 2,
           "xAxis": {
            "labels": {
             "enabled": true
            },
            "type": "-"
           },
           "yAxis": [
            {
             "type": "-"
            },
            {
             "opposite": true,
             "type": "-"
            }
           ]
          }
         }
        ]
       },
       "datasetPreviewNameToCmdIdMap": {},
       "diffDeletes": [],
       "diffInserts": [],
       "displayType": "redashChart",
       "error": null,
       "errorDetails": null,
       "errorSummary": null,
       "errorTraceType": null,
       "finishTime": 0,
       "globalVars": {},
       "guid": "",
       "height": "auto",
       "hideCommandCode": false,
       "hideCommandResult": false,
       "iPythonMetadata": null,
       "inputWidgets": {},
       "isLockedInExamMode": false,
       "latestAssumeRoleInfo": null,
       "latestUser": "a user",
       "latestUserId": null,
       "listResultMetadata": null,
       "metadata": {},
       "nuid": "250bca61-e094-4d0b-87b1-e879411fe257",
       "origId": 0,
       "parentHierarchy": [],
       "pivotAggregation": null,
       "pivotColumns": null,
       "position": 103.0,
       "resultDbfsErrorMessage": null,
       "resultDbfsStatus": "INLINED_IN_TREE",
       "results": null,
       "showCommandTitle": false,
       "startTime": 0,
       "state": "input",
       "streamStates": {},
       "subcommandOptions": {
        "queryPlan": {
         "groups": [
          {
           "column": "CustomerName",
           "type": "column"
          },
          {
           "column": "AvgDurationPerCustomer",
           "type": "column"
          }
         ],
         "selects": [
          {
           "column": "CustomerName",
           "type": "column"
          },
          {
           "column": "AvgDurationPerCustomer",
           "type": "column"
          }
         ]
        }
       },
       "submitTime": 0,
       "subtype": "tableResultSubCmd.visualization",
       "tableResultIndex": 0,
       "tableResultSettingsMap": {},
       "useConsistentColors": false,
       "version": "CommandV1",
       "width": "auto",
       "workflows": [],
       "xColumns": null,
       "yColumns": null
      }
     },
     "output_type": "display_data"
    }
   ],
   "source": [
    "%sql\n",
    "SELECT \n",
    "    CustomerID,\n",
    "    CustomerName,\n",
    "    AVG(DurationMins) AS AvgDurationPerCustomer\n",
    "FROM workspace.default.basalon\n",
    "GROUP BY CustomerID, CustomerName\n",
    "ORDER BY AvgDurationPerCustomer DESC;"
   ]
  },
  {
   "cell_type": "code",
   "execution_count": 0,
   "metadata": {
    "application/vnd.databricks.v1+cell": {
     "cellMetadata": {
      "byteLimit": 2048000,
      "implicitDf": true,
      "rowLimit": 10000
     },
     "inputWidgets": {},
     "nuid": "b3f63db1-ae06-4227-a944-3ae4e35c44dc",
     "showTitle": false,
     "tableResultSettingsMap": {},
     "title": ""
    }
   },
   "outputs": [
    {
     "output_type": "display_data",
     "data": {
      "text/html": [
       "<style scoped>\n",
       "  .table-result-container {\n",
       "    max-height: 300px;\n",
       "    overflow: auto;\n",
       "  }\n",
       "  table, th, td {\n",
       "    border: 1px solid black;\n",
       "    border-collapse: collapse;\n",
       "  }\n",
       "  th, td {\n",
       "    padding: 5px;\n",
       "  }\n",
       "  th {\n",
       "    text-align: left;\n",
       "  }\n",
       "</style><div class='table-result-container'><table class='table-result'><thead style='background-color: white'><tr><th>ServiceName</th><th>AvgRatingPerService</th></tr></thead><tbody><tr><td>Facial Glow</td><td>5.0</td></tr><tr><td>Party Makeup</td><td>5.0</td></tr><tr><td>Anti-Tan Facial</td><td>5.0</td></tr><tr><td>Mehendi</td><td>5.0</td></tr><tr><td>Hair Straightening</td><td>5.0</td></tr><tr><td>Hair Spa</td><td>5.0</td></tr><tr><td>Manicure</td><td>5.0</td></tr><tr><td>Body Polish</td><td>5.0</td></tr><tr><td>Back Massage</td><td>5.0</td></tr><tr><td>Waxing + Facial</td><td>5.0</td></tr><tr><td>Haircut</td><td>5.0</td></tr><tr><td>Fruit Facial</td><td>5.0</td></tr><tr><td>Body Scrub</td><td>5.0</td></tr><tr><td>Pedicure + Manicure</td><td>5.0</td></tr><tr><td>Haircut + Massage</td><td>5.0</td></tr><tr><td>Massage + Steam</td><td>5.0</td></tr><tr><td>Bridal Package</td><td>5.0</td></tr><tr><td>Spa Facial</td><td>5.0</td></tr><tr><td>Beard Styling</td><td>5.0</td></tr><tr><td>Hot Stone Massage</td><td>5.0</td></tr><tr><td>Bridal Makeup</td><td>5.0</td></tr><tr><td>Nail Art</td><td>5.0</td></tr><tr><td>Facial</td><td>5.0</td></tr><tr><td>Hair Coloring</td><td>4.666666666666667</td></tr><tr><td>Haircut + Shave</td><td>4.5</td></tr><tr><td>Head Massage</td><td>4.0</td></tr><tr><td>Haircut + Beard</td><td>4.0</td></tr><tr><td>Beard Grooming</td><td>4.0</td></tr><tr><td>Pedicure</td><td>4.0</td></tr><tr><td>Thai Massage</td><td>4.0</td></tr><tr><td>Shoulder Massage</td><td>4.0</td></tr><tr><td>Foot Reflexology</td><td>4.0</td></tr><tr><td>Relaxing Massage</td><td>4.0</td></tr><tr><td>Hair Styling</td><td>4.0</td></tr><tr><td>Full Body Massage</td><td>4.0</td></tr><tr><td>Hair Wash + Style</td><td>4.0</td></tr><tr><td>Waxing</td><td>4.0</td></tr><tr><td>Foot Massage</td><td>4.0</td></tr><tr><td>Haircut + Styling</td><td>4.0</td></tr><tr><td>Head + Shoulder Massage</td><td>4.0</td></tr></tbody></table></div>"
      ]
     },
     "metadata": {
      "application/vnd.databricks.v1+output": {
       "addedWidgets": {},
       "aggData": [],
       "aggError": "",
       "aggOverflow": false,
       "aggSchema": [],
       "aggSeriesLimitReached": false,
       "aggType": "",
       "arguments": {},
       "columnCustomDisplayInfos": {},
       "data": [
        [
         "Facial Glow",
         5.0
        ],
        [
         "Party Makeup",
         5.0
        ],
        [
         "Anti-Tan Facial",
         5.0
        ],
        [
         "Mehendi",
         5.0
        ],
        [
         "Hair Straightening",
         5.0
        ],
        [
         "Hair Spa",
         5.0
        ],
        [
         "Manicure",
         5.0
        ],
        [
         "Body Polish",
         5.0
        ],
        [
         "Back Massage",
         5.0
        ],
        [
         "Waxing + Facial",
         5.0
        ],
        [
         "Haircut",
         5.0
        ],
        [
         "Fruit Facial",
         5.0
        ],
        [
         "Body Scrub",
         5.0
        ],
        [
         "Pedicure + Manicure",
         5.0
        ],
        [
         "Haircut + Massage",
         5.0
        ],
        [
         "Massage + Steam",
         5.0
        ],
        [
         "Bridal Package",
         5.0
        ],
        [
         "Spa Facial",
         5.0
        ],
        [
         "Beard Styling",
         5.0
        ],
        [
         "Hot Stone Massage",
         5.0
        ],
        [
         "Bridal Makeup",
         5.0
        ],
        [
         "Nail Art",
         5.0
        ],
        [
         "Facial",
         5.0
        ],
        [
         "Hair Coloring",
         4.666666666666667
        ],
        [
         "Haircut + Shave",
         4.5
        ],
        [
         "Head Massage",
         4.0
        ],
        [
         "Haircut + Beard",
         4.0
        ],
        [
         "Beard Grooming",
         4.0
        ],
        [
         "Pedicure",
         4.0
        ],
        [
         "Thai Massage",
         4.0
        ],
        [
         "Shoulder Massage",
         4.0
        ],
        [
         "Foot Reflexology",
         4.0
        ],
        [
         "Relaxing Massage",
         4.0
        ],
        [
         "Hair Styling",
         4.0
        ],
        [
         "Full Body Massage",
         4.0
        ],
        [
         "Hair Wash + Style",
         4.0
        ],
        [
         "Waxing",
         4.0
        ],
        [
         "Foot Massage",
         4.0
        ],
        [
         "Haircut + Styling",
         4.0
        ],
        [
         "Head + Shoulder Massage",
         4.0
        ]
       ],
       "datasetInfos": [
        {
         "name": "_sqldf",
         "schema": {
          "fields": [
           {
            "metadata": {},
            "name": "ServiceName",
            "nullable": true,
            "type": "string"
           },
           {
            "metadata": {},
            "name": "AvgRatingPerService",
            "nullable": true,
            "type": "double"
           }
          ],
          "type": "struct"
         },
         "tableIdentifier": null,
         "typeStr": "pyspark.sql.connect.dataframe.DataFrame"
        }
       ],
       "dbfsResultPath": null,
       "isJsonSchema": true,
       "metadata": {
        "createTempViewForImplicitDf": true,
        "dataframeName": "_sqldf",
        "executionCount": 13
       },
       "overflow": false,
       "plotOptions": {
        "customPlotOptions": {},
        "displayType": "table",
        "pivotAggregation": null,
        "pivotColumns": null,
        "xColumns": null,
        "yColumns": null
       },
       "removedWidgets": [],
       "schema": [
        {
         "metadata": "{}",
         "name": "ServiceName",
         "type": "\"string\""
        },
        {
         "metadata": "{}",
         "name": "AvgRatingPerService",
         "type": "\"double\""
        }
       ],
       "type": "table"
      }
     },
     "output_type": "display_data"
    },
    {
     "output_type": "display_data",
     "data": {
      "text/plain": [
       "Databricks visualization. Run in Databricks to view."
      ]
     },
     "metadata": {
      "application/vnd.databricks.v1.subcommand+json": {
       "baseErrorDetails": null,
       "bindings": {},
       "collapsed": false,
       "command": "%sql WITH q AS (SELECT \n    ServiceName,\n    AVG(Rating) AS AvgRatingPerService\nFROM workspace.default.basalon\nGROUP BY ServiceName\nORDER BY AvgRatingPerService DESC) SELECT `ServiceName`,`AvgRatingPerService` FROM q GROUP BY `AvgRatingPerService`,`ServiceName`",
       "commandTitle": "Visualization 1",
       "commandType": "auto",
       "commandVersion": 0,
       "commentThread": [],
       "commentsVisible": false,
       "contentSha256Hex": null,
       "customPlotOptions": {
        "redashChart": [
         {
          "key": "type",
          "value": "CHART"
         },
         {
          "key": "options",
          "value": {
           "alignYAxesAtZero": true,
           "coefficient": 1,
           "columnConfigurationMap": {
            "series": {
             "column": "AvgRatingPerService",
             "id": "column_8de63742155"
            },
            "x": {
             "column": "ServiceName",
             "id": "column_8de63742154"
            },
            "y": []
           },
           "dateTimeFormat": "DD/MM/YYYY HH:mm",
           "direction": {
            "type": "counterclockwise"
           },
           "error_y": {
            "type": "data",
            "visible": true
           },
           "globalSeriesType": "column",
           "legend": {
            "traceorder": "normal"
           },
           "missingValuesAsZero": true,
           "numberFormat": "0,0.[00000]",
           "percentFormat": "0[.]00%",
           "series": {
            "error_y": {
             "type": "data",
             "visible": true
            },
            "stacking": null
           },
           "seriesOptions": {},
           "showDataLabels": false,
           "sizemode": "diameter",
           "sortX": true,
           "sortY": true,
           "swappedAxes": true,
           "textFormat": "",
           "useAggregationsUi": true,
           "valuesOptions": {},
           "version": 2,
           "xAxis": {
            "labels": {
             "enabled": true
            },
            "type": "-"
           },
           "yAxis": [
            {
             "type": "-"
            },
            {
             "opposite": true,
             "type": "-"
            }
           ]
          }
         }
        ]
       },
       "datasetPreviewNameToCmdIdMap": {},
       "diffDeletes": [],
       "diffInserts": [],
       "displayType": "redashChart",
       "error": null,
       "errorDetails": null,
       "errorSummary": null,
       "errorTraceType": null,
       "finishTime": 0,
       "globalVars": {},
       "guid": "",
       "height": "auto",
       "hideCommandCode": false,
       "hideCommandResult": false,
       "iPythonMetadata": null,
       "inputWidgets": {},
       "isLockedInExamMode": false,
       "latestAssumeRoleInfo": null,
       "latestUser": "a user",
       "latestUserId": null,
       "listResultMetadata": null,
       "metadata": {},
       "nuid": "a81b898e-678d-436e-96c0-f5503712a8c1",
       "origId": 0,
       "parentHierarchy": [],
       "pivotAggregation": null,
       "pivotColumns": null,
       "position": 104.0,
       "resultDbfsErrorMessage": null,
       "resultDbfsStatus": "INLINED_IN_TREE",
       "results": null,
       "showCommandTitle": false,
       "startTime": 0,
       "state": "input",
       "streamStates": {},
       "subcommandOptions": {
        "queryPlan": {
         "groups": [
          {
           "column": "ServiceName",
           "type": "column"
          },
          {
           "column": "AvgRatingPerService",
           "type": "column"
          }
         ],
         "selects": [
          {
           "column": "ServiceName",
           "type": "column"
          },
          {
           "column": "AvgRatingPerService",
           "type": "column"
          }
         ]
        }
       },
       "submitTime": 0,
       "subtype": "tableResultSubCmd.visualization",
       "tableResultIndex": 0,
       "tableResultSettingsMap": {},
       "useConsistentColors": false,
       "version": "CommandV1",
       "width": "auto",
       "workflows": [],
       "xColumns": null,
       "yColumns": null
      }
     },
     "output_type": "display_data"
    }
   ],
   "source": [
    "%sql\n",
    "SELECT \n",
    "    ServiceName,\n",
    "    AVG(Rating) AS AvgRatingPerService\n",
    "FROM workspace.default.basalon\n",
    "GROUP BY ServiceName\n",
    "ORDER BY AvgRatingPerService DESC;"
   ]
  },
  {
   "cell_type": "code",
   "execution_count": 0,
   "metadata": {
    "application/vnd.databricks.v1+cell": {
     "cellMetadata": {
      "byteLimit": 2048000,
      "implicitDf": true,
      "rowLimit": 10000
     },
     "inputWidgets": {},
     "nuid": "d0a277e6-5bb6-410c-a231-4f24bad95aaa",
     "showTitle": false,
     "tableResultSettingsMap": {},
     "title": ""
    }
   },
   "outputs": [
    {
     "output_type": "display_data",
     "data": {
      "text/html": [
       "<style scoped>\n",
       "  .table-result-container {\n",
       "    max-height: 300px;\n",
       "    overflow: auto;\n",
       "  }\n",
       "  table, th, td {\n",
       "    border: 1px solid black;\n",
       "    border-collapse: collapse;\n",
       "  }\n",
       "  th, td {\n",
       "    padding: 5px;\n",
       "  }\n",
       "  th {\n",
       "    text-align: left;\n",
       "  }\n",
       "</style><div class='table-result-container'><table class='table-result'><thead style='background-color: white'><tr><th>SalonID</th><th>SalonName</th><th>AvgRatingPerSalon</th></tr></thead><tbody><tr><td>S003</td><td>Royal Touch Spa</td><td>4.6875</td></tr><tr><td>S002</td><td>Elite Salon</td><td>4.625</td></tr><tr><td>S001</td><td>Glow & Shine Spa</td><td>4.611111111111111</td></tr></tbody></table></div>"
      ]
     },
     "metadata": {
      "application/vnd.databricks.v1+output": {
       "addedWidgets": {},
       "aggData": [],
       "aggError": "",
       "aggOverflow": false,
       "aggSchema": [],
       "aggSeriesLimitReached": false,
       "aggType": "",
       "arguments": {},
       "columnCustomDisplayInfos": {},
       "data": [
        [
         "S003",
         "Royal Touch Spa",
         4.6875
        ],
        [
         "S002",
         "Elite Salon",
         4.625
        ],
        [
         "S001",
         "Glow & Shine Spa",
         4.611111111111111
        ]
       ],
       "datasetInfos": [
        {
         "name": "_sqldf",
         "schema": {
          "fields": [
           {
            "metadata": {},
            "name": "SalonID",
            "nullable": true,
            "type": "string"
           },
           {
            "metadata": {},
            "name": "SalonName",
            "nullable": true,
            "type": "string"
           },
           {
            "metadata": {},
            "name": "AvgRatingPerSalon",
            "nullable": true,
            "type": "double"
           }
          ],
          "type": "struct"
         },
         "tableIdentifier": null,
         "typeStr": "pyspark.sql.connect.dataframe.DataFrame"
        }
       ],
       "dbfsResultPath": null,
       "isJsonSchema": true,
       "metadata": {
        "createTempViewForImplicitDf": true,
        "dataframeName": "_sqldf",
        "executionCount": 14
       },
       "overflow": false,
       "plotOptions": {
        "customPlotOptions": {},
        "displayType": "table",
        "pivotAggregation": null,
        "pivotColumns": null,
        "xColumns": null,
        "yColumns": null
       },
       "removedWidgets": [],
       "schema": [
        {
         "metadata": "{}",
         "name": "SalonID",
         "type": "\"string\""
        },
        {
         "metadata": "{}",
         "name": "SalonName",
         "type": "\"string\""
        },
        {
         "metadata": "{}",
         "name": "AvgRatingPerSalon",
         "type": "\"double\""
        }
       ],
       "type": "table"
      }
     },
     "output_type": "display_data"
    },
    {
     "output_type": "display_data",
     "data": {
      "text/plain": [
       "Databricks visualization. Run in Databricks to view."
      ]
     },
     "metadata": {
      "application/vnd.databricks.v1.subcommand+json": {
       "baseErrorDetails": null,
       "bindings": {},
       "collapsed": false,
       "command": "%sql WITH q AS (SELECT \n    SalonID,\n    SalonName,\n    AVG(Rating) AS AvgRatingPerSalon\nFROM workspace.default.basalon\nGROUP BY SalonID, SalonName\nORDER BY AvgRatingPerSalon DESC) SELECT `SalonName`,`SalonName`,SUM(`AvgRatingPerSalon`) `column_8de63742158` FROM q GROUP BY `SalonName`",
       "commandTitle": "Visualization 1",
       "commandType": "auto",
       "commandVersion": 0,
       "commentThread": [],
       "commentsVisible": false,
       "contentSha256Hex": null,
       "customPlotOptions": {
        "redashChart": [
         {
          "key": "type",
          "value": "CHART"
         },
         {
          "key": "options",
          "value": {
           "alignYAxesAtZero": true,
           "coefficient": 1,
           "columnConfigurationMap": {
            "series": {
             "column": "SalonName",
             "id": "column_8de63742157"
            },
            "x": {
             "column": "SalonName",
             "id": "column_8de63742160"
            },
            "y": [
             {
              "column": "AvgRatingPerSalon",
              "id": "column_8de63742158",
              "transform": "SUM"
             }
            ]
           },
           "dateTimeFormat": "DD/MM/YYYY HH:mm",
           "direction": {
            "type": "counterclockwise"
           },
           "error_y": {
            "type": "data",
            "visible": true
           },
           "globalSeriesType": "column",
           "isAggregationOn": true,
           "legend": {
            "traceorder": "normal"
           },
           "missingValuesAsZero": true,
           "numberFormat": "0,0.[00000]",
           "percentFormat": "0[.]00%",
           "series": {
            "error_y": {
             "type": "data",
             "visible": true
            },
            "stacking": "stack"
           },
           "seriesOptions": {
            "column_8de63742158": {
             "name": "AvgRatingPerSalon",
             "yAxis": 0
            }
           },
           "showDataLabels": false,
           "sizemode": "diameter",
           "sortX": true,
           "sortY": true,
           "swappedAxes": true,
           "textFormat": "",
           "useAggregationsUi": true,
           "valuesOptions": {},
           "version": 2,
           "xAxis": {
            "labels": {
             "enabled": true
            },
            "type": "-"
           },
           "yAxis": [
            {
             "type": "-"
            },
            {
             "opposite": true,
             "type": "-"
            }
           ]
          }
         }
        ]
       },
       "datasetPreviewNameToCmdIdMap": {},
       "diffDeletes": [],
       "diffInserts": [],
       "displayType": "redashChart",
       "error": null,
       "errorDetails": null,
       "errorSummary": null,
       "errorTraceType": null,
       "finishTime": 0,
       "globalVars": {},
       "guid": "",
       "height": "auto",
       "hideCommandCode": false,
       "hideCommandResult": false,
       "iPythonMetadata": null,
       "inputWidgets": {},
       "isLockedInExamMode": false,
       "latestAssumeRoleInfo": null,
       "latestUser": "a user",
       "latestUserId": null,
       "listResultMetadata": null,
       "metadata": {},
       "nuid": "480546e4-2993-4789-92dc-7fb6b94e109d",
       "origId": 0,
       "parentHierarchy": [],
       "pivotAggregation": null,
       "pivotColumns": null,
       "position": 105.0,
       "resultDbfsErrorMessage": null,
       "resultDbfsStatus": "INLINED_IN_TREE",
       "results": null,
       "showCommandTitle": false,
       "startTime": 0,
       "state": "input",
       "streamStates": {},
       "subcommandOptions": {
        "queryPlan": {
         "groups": [
          {
           "column": "SalonName",
           "type": "column"
          },
          {
           "column": "SalonName",
           "type": "column"
          }
         ],
         "selects": [
          {
           "column": "SalonName",
           "type": "column"
          },
          {
           "column": "SalonName",
           "type": "column"
          },
          {
           "alias": "column_8de63742158",
           "args": [
            {
             "column": "AvgRatingPerSalon",
             "type": "column"
            }
           ],
           "function": "SUM",
           "type": "function"
          }
         ]
        }
       },
       "submitTime": 0,
       "subtype": "tableResultSubCmd.visualization",
       "tableResultIndex": 0,
       "tableResultSettingsMap": {},
       "useConsistentColors": false,
       "version": "CommandV1",
       "width": "auto",
       "workflows": [],
       "xColumns": null,
       "yColumns": null
      }
     },
     "output_type": "display_data"
    }
   ],
   "source": [
    "%sql\n",
    "SELECT \n",
    "    SalonID,\n",
    "    SalonName,\n",
    "    AVG(Rating) AS AvgRatingPerSalon\n",
    "FROM workspace.default.basalon\n",
    "GROUP BY SalonID, SalonName\n",
    "ORDER BY AvgRatingPerSalon DESC;"
   ]
  },
  {
   "cell_type": "code",
   "execution_count": 0,
   "metadata": {
    "application/vnd.databricks.v1+cell": {
     "cellMetadata": {
      "byteLimit": 2048000,
      "implicitDf": true,
      "rowLimit": 10000
     },
     "inputWidgets": {},
     "nuid": "729fe9da-2aa2-4c2a-8376-372331cd55bc",
     "showTitle": false,
     "tableResultSettingsMap": {},
     "title": ""
    }
   },
   "outputs": [
    {
     "output_type": "display_data",
     "data": {
      "text/html": [
       "<style scoped>\n",
       "  .table-result-container {\n",
       "    max-height: 300px;\n",
       "    overflow: auto;\n",
       "  }\n",
       "  table, th, td {\n",
       "    border: 1px solid black;\n",
       "    border-collapse: collapse;\n",
       "  }\n",
       "  th, td {\n",
       "    padding: 5px;\n",
       "  }\n",
       "  th {\n",
       "    text-align: left;\n",
       "  }\n",
       "</style><div class='table-result-container'><table class='table-result'><thead style='background-color: white'><tr><th>StaffName</th><th>AvgRatingPerStaff</th></tr></thead><tbody><tr><td>Neha Kapoor</td><td>5.0</td></tr><tr><td>Aditi Rao</td><td>5.0</td></tr><tr><td>Pooja Sharma</td><td>4.8</td></tr><tr><td>Anjali Mehta</td><td>4.75</td></tr><tr><td>Simran Gill</td><td>4.5</td></tr><tr><td>Arjun Malhotra</td><td>4.4</td></tr><tr><td>Sneha Tiwari</td><td>4.4</td></tr><tr><td>Karan Joshi</td><td>4.333333333333333</td></tr></tbody></table></div>"
      ]
     },
     "metadata": {
      "application/vnd.databricks.v1+output": {
       "addedWidgets": {},
       "aggData": [],
       "aggError": "",
       "aggOverflow": false,
       "aggSchema": [],
       "aggSeriesLimitReached": false,
       "aggType": "",
       "arguments": {},
       "columnCustomDisplayInfos": {},
       "data": [
        [
         "Neha Kapoor",
         5.0
        ],
        [
         "Aditi Rao",
         5.0
        ],
        [
         "Pooja Sharma",
         4.8
        ],
        [
         "Anjali Mehta",
         4.75
        ],
        [
         "Simran Gill",
         4.5
        ],
        [
         "Arjun Malhotra",
         4.4
        ],
        [
         "Sneha Tiwari",
         4.4
        ],
        [
         "Karan Joshi",
         4.333333333333333
        ]
       ],
       "datasetInfos": [
        {
         "name": "_sqldf",
         "schema": {
          "fields": [
           {
            "metadata": {},
            "name": "StaffName",
            "nullable": true,
            "type": "string"
           },
           {
            "metadata": {},
            "name": "AvgRatingPerStaff",
            "nullable": true,
            "type": "double"
           }
          ],
          "type": "struct"
         },
         "tableIdentifier": null,
         "typeStr": "pyspark.sql.connect.dataframe.DataFrame"
        }
       ],
       "dbfsResultPath": null,
       "isJsonSchema": true,
       "metadata": {
        "createTempViewForImplicitDf": true,
        "dataframeName": "_sqldf",
        "executionCount": 15
       },
       "overflow": false,
       "plotOptions": {
        "customPlotOptions": {},
        "displayType": "table",
        "pivotAggregation": null,
        "pivotColumns": null,
        "xColumns": null,
        "yColumns": null
       },
       "removedWidgets": [],
       "schema": [
        {
         "metadata": "{}",
         "name": "StaffName",
         "type": "\"string\""
        },
        {
         "metadata": "{}",
         "name": "AvgRatingPerStaff",
         "type": "\"double\""
        }
       ],
       "type": "table"
      }
     },
     "output_type": "display_data"
    },
    {
     "output_type": "display_data",
     "data": {
      "text/plain": [
       "Databricks visualization. Run in Databricks to view."
      ]
     },
     "metadata": {
      "application/vnd.databricks.v1.subcommand+json": {
       "baseErrorDetails": null,
       "bindings": {},
       "collapsed": false,
       "command": "%sql WITH q AS (SELECT \n    StaffName,\n    AVG(Rating) AS AvgRatingPerStaff\nFROM workspace.default.basalon\nGROUP BY StaffName\nORDER BY AvgRatingPerStaff DESC) SELECT `StaffName`,SUM(`AvgRatingPerStaff`) `column_8de63742162` FROM q GROUP BY `StaffName`",
       "commandTitle": "Visualization 1",
       "commandType": "auto",
       "commandVersion": 0,
       "commentThread": [],
       "commentsVisible": false,
       "contentSha256Hex": null,
       "customPlotOptions": {
        "redashChart": [
         {
          "key": "type",
          "value": "CHART"
         },
         {
          "key": "options",
          "value": {
           "alignYAxesAtZero": true,
           "coefficient": 1,
           "columnConfigurationMap": {
            "x": {
             "column": "StaffName",
             "id": "column_8de63742161"
            },
            "y": [
             {
              "column": "AvgRatingPerStaff",
              "id": "column_8de63742162",
              "transform": "SUM"
             }
            ]
           },
           "dateTimeFormat": "DD/MM/YYYY HH:mm",
           "direction": {
            "type": "counterclockwise"
           },
           "error_y": {
            "type": "data",
            "visible": true
           },
           "globalSeriesType": "column",
           "legend": {
            "traceorder": "normal"
           },
           "missingValuesAsZero": true,
           "numberFormat": "0,0.[00000]",
           "percentFormat": "0[.]00%",
           "series": {
            "error_y": {
             "type": "data",
             "visible": true
            },
            "stacking": null
           },
           "seriesOptions": {
            "column_8de63742162": {
             "name": "AvgRatingPerStaff",
             "yAxis": 0
            }
           },
           "showDataLabels": false,
           "sizemode": "diameter",
           "sortX": true,
           "sortY": true,
           "swappedAxes": true,
           "textFormat": "",
           "useAggregationsUi": true,
           "valuesOptions": {},
           "version": 2,
           "xAxis": {
            "labels": {
             "enabled": true
            },
            "type": "-"
           },
           "yAxis": [
            {
             "type": "-"
            },
            {
             "opposite": true,
             "type": "-"
            }
           ]
          }
         }
        ]
       },
       "datasetPreviewNameToCmdIdMap": {},
       "diffDeletes": [],
       "diffInserts": [],
       "displayType": "redashChart",
       "error": null,
       "errorDetails": null,
       "errorSummary": null,
       "errorTraceType": null,
       "finishTime": 0,
       "globalVars": {},
       "guid": "",
       "height": "auto",
       "hideCommandCode": false,
       "hideCommandResult": false,
       "iPythonMetadata": null,
       "inputWidgets": {},
       "isLockedInExamMode": false,
       "latestAssumeRoleInfo": null,
       "latestUser": "a user",
       "latestUserId": null,
       "listResultMetadata": null,
       "metadata": {},
       "nuid": "daa6ba48-9b91-4cdf-b077-a08079b60e5d",
       "origId": 0,
       "parentHierarchy": [],
       "pivotAggregation": null,
       "pivotColumns": null,
       "position": 106.0,
       "resultDbfsErrorMessage": null,
       "resultDbfsStatus": "INLINED_IN_TREE",
       "results": null,
       "showCommandTitle": false,
       "startTime": 0,
       "state": "input",
       "streamStates": {},
       "subcommandOptions": {
        "queryPlan": {
         "groups": [
          {
           "column": "StaffName",
           "type": "column"
          }
         ],
         "selects": [
          {
           "column": "StaffName",
           "type": "column"
          },
          {
           "alias": "column_8de63742162",
           "args": [
            {
             "column": "AvgRatingPerStaff",
             "type": "column"
            }
           ],
           "function": "SUM",
           "type": "function"
          }
         ]
        }
       },
       "submitTime": 0,
       "subtype": "tableResultSubCmd.visualization",
       "tableResultIndex": 0,
       "tableResultSettingsMap": {},
       "useConsistentColors": false,
       "version": "CommandV1",
       "width": "auto",
       "workflows": [],
       "xColumns": null,
       "yColumns": null
      }
     },
     "output_type": "display_data"
    }
   ],
   "source": [
    "%sql\n",
    "SELECT \n",
    "    StaffName,\n",
    "    AVG(Rating) AS AvgRatingPerStaff\n",
    "FROM workspace.default.basalon\n",
    "GROUP BY StaffName\n",
    "ORDER BY AvgRatingPerStaff DESC;"
   ]
  }
 ],
 "metadata": {
  "application/vnd.databricks.v1+notebook": {
   "computePreferences": null,
   "dashboards": [
    {
     "elements": [
      {
       "dashboardResultIndex": null,
       "elementNUID": "480546e4-2993-4789-92dc-7fb6b94e109d",
       "elementType": "command",
       "guid": "024cb256-f14b-4af6-bf47-3e69d75541c2",
       "options": null,
       "position": {
        "height": 6,
        "width": 12,
        "x": 0,
        "y": 0,
        "z": null
       },
       "resultIndex": null
      },
      {
       "dashboardResultIndex": null,
       "elementNUID": "daa6ba48-9b91-4cdf-b077-a08079b60e5d",
       "elementType": "command",
       "guid": "08d54559-9d59-4696-be9a-8d0dc703dd18",
       "options": null,
       "position": {
        "height": 6,
        "width": 12,
        "x": 0,
        "y": 6,
        "z": null
       },
       "resultIndex": null
      },
      {
       "dashboardResultIndex": null,
       "elementNUID": "8ca13b2e-af04-4886-9c93-68a6fdcc2417",
       "elementType": "command",
       "guid": "1e093e38-d462-44c5-9d88-4f56760204e4",
       "options": null,
       "position": {
        "height": 6,
        "width": 12,
        "x": 0,
        "y": 12,
        "z": null
       },
       "resultIndex": null
      },
      {
       "dashboardResultIndex": 0,
       "elementNUID": "9402b373-3c07-456c-8168-bfd94f410b8f",
       "elementType": "command",
       "guid": "3ab35924-12b5-42d3-a3a1-41be2a86f855",
       "options": null,
       "position": {
        "height": 6,
        "width": 12,
        "x": 0,
        "y": 18,
        "z": null
       },
       "resultIndex": null
      },
      {
       "dashboardResultIndex": 0,
       "elementNUID": "1ed7c443-e883-480c-b829-7eb418661aa3",
       "elementType": "command",
       "guid": "56e778af-b061-43cc-8179-6a7df5bf26b6",
       "options": null,
       "position": {
        "height": 6,
        "width": 12,
        "x": 0,
        "y": 24,
        "z": null
       },
       "resultIndex": null
      },
      {
       "dashboardResultIndex": 0,
       "elementNUID": "729fe9da-2aa2-4c2a-8376-372331cd55bc",
       "elementType": "command",
       "guid": "8d504e08-c67c-4980-a143-62819256dfc0",
       "options": null,
       "position": {
        "height": 6,
        "width": 12,
        "x": 0,
        "y": 30,
        "z": null
       },
       "resultIndex": null
      },
      {
       "dashboardResultIndex": null,
       "elementNUID": "250bca61-e094-4d0b-87b1-e879411fe257",
       "elementType": "command",
       "guid": "9c51bc51-44d5-4338-a8fe-920139e6ae36",
       "options": null,
       "position": {
        "height": 6,
        "width": 12,
        "x": 0,
        "y": 36,
        "z": null
       },
       "resultIndex": null
      },
      {
       "dashboardResultIndex": null,
       "elementNUID": "a81b898e-678d-436e-96c0-f5503712a8c1",
       "elementType": "command",
       "guid": "a39eca6f-3929-4cb2-8bb6-0b8b297409f8",
       "options": null,
       "position": {
        "height": 6,
        "width": 12,
        "x": 0,
        "y": 42,
        "z": null
       },
       "resultIndex": null
      },
      {
       "dashboardResultIndex": null,
       "elementNUID": "469bfa1a-c043-478c-973f-78265753b36c",
       "elementType": "command",
       "guid": "b1267f61-6ccc-4ad7-8dbe-3beff51b57f9",
       "options": null,
       "position": {
        "height": 6,
        "width": 12,
        "x": 0,
        "y": 48,
        "z": null
       },
       "resultIndex": null
      },
      {
       "dashboardResultIndex": 0,
       "elementNUID": "b3f63db1-ae06-4227-a944-3ae4e35c44dc",
       "elementType": "command",
       "guid": "b864e7ee-b93e-479e-9da0-56360c6d07c6",
       "options": null,
       "position": {
        "height": 6,
        "width": 12,
        "x": 0,
        "y": 54,
        "z": null
       },
       "resultIndex": null
      },
      {
       "dashboardResultIndex": 0,
       "elementNUID": "6e8ea5f3-3929-421b-92f3-d5f3bf3f3236",
       "elementType": "command",
       "guid": "c2b75a42-b377-42df-95d5-72d203d6b4e6",
       "options": null,
       "position": {
        "height": 6,
        "width": 12,
        "x": 0,
        "y": 60,
        "z": null
       },
       "resultIndex": null
      },
      {
       "dashboardResultIndex": 0,
       "elementNUID": "d0a277e6-5bb6-410c-a231-4f24bad95aaa",
       "elementType": "command",
       "guid": "e2c8c368-6584-41b1-a646-303796f3c4fb",
       "options": null,
       "position": {
        "height": 6,
        "width": 12,
        "x": 0,
        "y": 66,
        "z": null
       },
       "resultIndex": null
      }
     ],
     "globalVars": {},
     "guid": "",
     "layoutOption": {
      "grid": true,
      "stack": true
     },
     "nuid": "8d74a600-da38-470a-87df-bdda4ca340cc",
     "origId": 5372558508099043,
     "title": "Untitled",
     "version": "DashboardViewV1",
     "width": 1024
    }
   ],
   "environmentMetadata": {
    "base_environment": "",
    "environment_version": "3"
   },
   "inputWidgetPreferences": null,
   "language": "python",
   "notebookMetadata": {
    "mostRecentlyExecutedCommandWithImplicitDF": {
     "commandId": 5372558508099036,
     "dataframes": [
      "_sqldf"
     ]
    },
    "pythonIndentUnit": 4
   },
   "notebookName": "BA internal",
   "widgets": {}
  },
  "language_info": {
   "name": "python"
  }
 },
 "nbformat": 4,
 "nbformat_minor": 0
}